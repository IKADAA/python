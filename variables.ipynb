{
 "cells": [
  {
   "cell_type": "code",
   "execution_count": 2,
   "metadata": {},
   "outputs": [
    {
     "name": "stdout",
     "output_type": "stream",
     "text": [
      "5\n",
      "Kasparas\n",
      "J\n"
     ]
    }
   ],
   "source": [
    "x = 5\n",
    "y = \"Kasparas\"\n",
    "z = \"J\"\n",
    "print(x)\n",
    "print(y)\n",
    "print(z)"
   ]
  },
  {
   "cell_type": "code",
   "execution_count": 10,
   "metadata": {},
   "outputs": [],
   "source": [
    "z = 5 #Cia skaitos integer'is (int)\n",
    "x = \"Hello, world\" #string'as, nes yra kabutese (str)\n",
    "\n"
   ]
  },
  {
   "cell_type": "code",
   "execution_count": 14,
   "metadata": {},
   "outputs": [
    {
     "name": "stdout",
     "output_type": "stream",
     "text": [
      "3\n",
      "3\n",
      "1.4124293785310735\n",
      "<class 'str'>\n",
      "<class 'int'>\n",
      "<class 'float'>\n"
     ]
    }
   ],
   "source": [
    "z = str(3)\n",
    "x = int(3)\n",
    "y = float(5/3.54) #rodo skaicius po kablelio\n",
    "\n",
    "print(z)\n",
    "print(x)\n",
    "print(y)\n",
    "print(type(z))#type funkcija parodo kokio tipo yra kintamasis\n",
    "print(type(x))\n",
    "print(type(y))"
   ]
  },
  {
   "cell_type": "markdown",
   "metadata": {},
   "source": [
    "Variablai gali but ir didziosios ir mazosios raides\n",
    "Pavyzdiui a skiriasi nuo A (nebus ta pati reiksme)"
   ]
  },
  {
   "cell_type": "code",
   "execution_count": 15,
   "metadata": {},
   "outputs": [
    {
     "name": "stdout",
     "output_type": "stream",
     "text": [
      "2\n",
      "5\n"
     ]
    }
   ],
   "source": [
    "A = 5\n",
    "a = 2\n",
    "print(a)\n",
    "print(A)"
   ]
  },
  {
   "cell_type": "markdown",
   "metadata": {},
   "source": [
    "variablai gali but su didelem raidem, skaiciais (iskyrus jei skaicius yra pirmas) leistinas ir \"_\"\n",
    "negali buti skaicius, bruksnys ir tarpas"
   ]
  },
  {
   "cell_type": "code",
   "execution_count": 16,
   "metadata": {},
   "outputs": [
    {
     "name": "stdout",
     "output_type": "stream",
     "text": [
      "5\n",
      "6\n"
     ]
    }
   ],
   "source": [
    "myvar = 5 \n",
    "mAnovar = 6 \n",
    "print(myvar)\n",
    "print(mAnovar)"
   ]
  },
  {
   "cell_type": "markdown",
   "metadata": {},
   "source": [
    "keli vriablai i viena eilute"
   ]
  },
  {
   "cell_type": "code",
   "execution_count": 17,
   "metadata": {},
   "outputs": [
    {
     "name": "stdout",
     "output_type": "stream",
     "text": [
      "vienas\n",
      "du\n",
      "trys\n"
     ]
    }
   ],
   "source": [
    "x, y, z = \"vienas\", \"du\", \"trys\"\n",
    "print(x)\n",
    "print(y)\n",
    "print(z)"
   ]
  },
  {
   "cell_type": "markdown",
   "metadata": {},
   "source": [
    "keli variablai - ta pati reiksme\n"
   ]
  },
  {
   "cell_type": "code",
   "execution_count": 18,
   "metadata": {},
   "outputs": [
    {
     "name": "stdout",
     "output_type": "stream",
     "text": [
      "viena reiksme\n",
      "viena reiksme\n",
      "viena reiksme\n"
     ]
    }
   ],
   "source": [
    "x = y = z = \"viena reiksme\"\n",
    "print(x)\n",
    "print(y)\n",
    "print(z)"
   ]
  },
  {
   "cell_type": "markdown",
   "metadata": {},
   "source": [
    "galima isarchivuoti variablus"
   ]
  },
  {
   "cell_type": "code",
   "execution_count": 1,
   "metadata": {},
   "outputs": [
    {
     "name": "stdout",
     "output_type": "stream",
     "text": [
      "banana\n",
      "apple\n",
      "orange\n",
      "15\n",
      "9\n",
      "24\n"
     ]
    }
   ],
   "source": [
    "fruits = [\"banana\", \"apple\", \"orange\"] #stringai\n",
    "skaiciai = [6+9, 5+4, 12+12] #int\n",
    "x, y, z = fruits\n",
    "d, e, f = skaiciai\n",
    "print(x)\n",
    "print(y)\n",
    "print(z)\n",
    "print(d)\n",
    "print(e)\n",
    "print(f)"
   ]
  },
  {
   "cell_type": "markdown",
   "metadata": {},
   "source": [
    "printas skirtas outputams\n",
    "printas gali ir skaiciuoti"
   ]
  },
  {
   "cell_type": "code",
   "execution_count": 5,
   "metadata": {},
   "outputs": [
    {
     "name": "stdout",
     "output_type": "stream",
     "text": [
      "Hello, world\n",
      "38\n"
     ]
    }
   ],
   "source": [
    "x = \"Hello,\"\n",
    "y = \"world\"\n",
    "print(x, y)\n",
    "h = 7 + 9\n",
    "f = 11 +11\n",
    "print (h + f)"
   ]
  },
  {
   "cell_type": "markdown",
   "metadata": {},
   "source": [
    "def - sukuria funkcija"
   ]
  },
  {
   "cell_type": "code",
   "execution_count": 8,
   "metadata": {},
   "outputs": [
    {
     "name": "stdout",
     "output_type": "stream",
     "text": [
      "Mama Mia\n",
      "Mama Mia\n"
     ]
    }
   ],
   "source": [
    "x = \"Mama\"\n",
    "\n",
    "def Myfunc():\n",
    "    print(x, \"Mia\")\n",
    "    \n",
    "Myfunc()\n",
    "\n",
    "print(x, \"Mia\")"
   ]
  },
  {
   "cell_type": "code",
   "execution_count": 11,
   "metadata": {},
   "outputs": [
    {
     "name": "stdout",
     "output_type": "stream",
     "text": [
      "Mama Mia\n",
      "Mama Mia\n"
     ]
    }
   ],
   "source": [
    "\n",
    "def Myfunc():\n",
    "    global x\n",
    "    x = \"Mama\"\n",
    "    print(x, \"Mia\")\n",
    "    \n",
    "Myfunc()\n",
    "\n",
    "print(x, \"Mia\")"
   ]
  }
 ],
 "metadata": {
  "kernelspec": {
   "display_name": "venv",
   "language": "python",
   "name": "python3"
  },
  "language_info": {
   "codemirror_mode": {
    "name": "ipython",
    "version": 3
   },
   "file_extension": ".py",
   "mimetype": "text/x-python",
   "name": "python",
   "nbconvert_exporter": "python",
   "pygments_lexer": "ipython3",
   "version": "3.12.2"
  }
 },
 "nbformat": 4,
 "nbformat_minor": 2
}
